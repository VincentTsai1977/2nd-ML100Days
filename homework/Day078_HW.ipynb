{
  "nbformat": 4,
  "nbformat_minor": 0,
  "metadata": {
    "colab": {
      "name": "Day078_HW.ipynb",
      "version": "0.3.2",
      "provenance": []
    },
    "kernelspec": {
      "name": "python3",
      "display_name": "Python 3"
    },
    "accelerator": "GPU"
  },
  "cells": [
    {
      "cell_type": "markdown",
      "metadata": {
        "id": "6JWgEGIMr_zy",
        "colab_type": "text"
      },
      "source": [
        "**Work**\n",
        "請嘗試將 preproc_x 替換成以每筆資料的 min/max 進行標準化至 -1 ~ 1 間，再進行訓練\n",
        "請嘗試將 mlp 疊更深 (e.g 5~10 層)，進行訓練後觀察 learning curve 的走勢\n",
        "(optional) 請改用 GPU 進行訓練 (如果你有 GPU 的話)，比較使用 CPU 與 GPU 的訓練速度"
      ]
    },
    {
      "cell_type": "code",
      "metadata": {
        "id": "YCVE7sVOtTty",
        "colab_type": "code",
        "colab": {
          "base_uri": "https://localhost:8080/",
          "height": 289
        },
        "outputId": "26e2adf4-4586-455d-d07e-92a1286248bd"
      },
      "source": [
        "\n",
        "## \n",
        "\"\"\"\n",
        "Your code here (optional)\n",
        "確認硬體資源\n",
        "\"\"\"\n",
        "!nvidia-smi"
      ],
      "execution_count": 16,
      "outputs": [
        {
          "output_type": "stream",
          "text": [
            "Sat Aug 24 17:40:36 2019       \n",
            "+-----------------------------------------------------------------------------+\n",
            "| NVIDIA-SMI 430.40       Driver Version: 418.67       CUDA Version: 10.1     |\n",
            "|-------------------------------+----------------------+----------------------+\n",
            "| GPU  Name        Persistence-M| Bus-Id        Disp.A | Volatile Uncorr. ECC |\n",
            "| Fan  Temp  Perf  Pwr:Usage/Cap|         Memory-Usage | GPU-Util  Compute M. |\n",
            "|===============================+======================+======================|\n",
            "|   0  Tesla K80           Off  | 00000000:00:04.0 Off |                    0 |\n",
            "| N/A   73C    P0    72W / 149W |    419MiB / 11441MiB |      0%      Default |\n",
            "+-------------------------------+----------------------+----------------------+\n",
            "                                                                               \n",
            "+-----------------------------------------------------------------------------+\n",
            "| Processes:                                                       GPU Memory |\n",
            "|  GPU       PID   Type   Process name                             Usage      |\n",
            "|=============================================================================|\n",
            "+-----------------------------------------------------------------------------+\n"
          ],
          "name": "stdout"
        }
      ]
    },
    {
      "cell_type": "code",
      "metadata": {
        "id": "GDk_dgUSr7jH",
        "colab_type": "code",
        "colab": {}
      },
      "source": [
        "import os\n",
        "import keras\n",
        "# 請嘗試設定 GPU：os.environ\n",
        "os.environ[\"CUDA_VISIBLE_DEVICES\"] = \"0\""
      ],
      "execution_count": 0,
      "outputs": []
    },
    {
      "cell_type": "code",
      "metadata": {
        "id": "qlLfFobHsLzk",
        "colab_type": "code",
        "colab": {}
      },
      "source": [
        "train, test = keras.datasets.cifar10.load_data()"
      ],
      "execution_count": 0,
      "outputs": []
    },
    {
      "cell_type": "code",
      "metadata": {
        "id": "ilLmN7V2sN4j",
        "colab_type": "code",
        "colab": {}
      },
      "source": [
        "## 資料前處理\n",
        "\"\"\"\n",
        "Your code here\n",
        "\"\"\"\n",
        "def preproc_x(x, flatten=True):\n",
        "    x = x / 255.\n",
        "    if flatten:\n",
        "        x = x.reshape((len(x), -1))\n",
        "    return x\n",
        "\n",
        "def preproc_y(y, num_classes=10):\n",
        "    if y.shape[-1] == 1:\n",
        "        y = keras.utils.to_categorical(y, num_classes)\n",
        "    return y   "
      ],
      "execution_count": 0,
      "outputs": []
    },
    {
      "cell_type": "code",
      "metadata": {
        "id": "CksAjfmVsStE",
        "colab_type": "code",
        "colab": {}
      },
      "source": [
        "x_train, y_train = train\n",
        "x_test, y_test = test\n",
        "\n",
        "# Preproc the inputs\n",
        "x_train = preproc_x(x_train)\n",
        "x_test = preproc_x(x_test)\n",
        "\n",
        "# Preprc the outputs\n",
        "y_train = preproc_y(y_train)\n",
        "y_test = preproc_y(y_test)"
      ],
      "execution_count": 0,
      "outputs": []
    },
    {
      "cell_type": "code",
      "metadata": {
        "id": "4QgQRfWOsaXr",
        "colab_type": "code",
        "colab": {
          "base_uri": "https://localhost:8080/",
          "height": 306
        },
        "outputId": "418d4258-fdc9-4fe0-bf4c-5d21183dd0be"
      },
      "source": [
        "def build_mlp(input_shape, output_units=10, num_neurons=[512, 256, 128]):\n",
        "    input_layer = keras.layers.Input(input_shape)\n",
        "    \n",
        "    for i, n_units in enumerate(num_neurons):\n",
        "        if i == 0:\n",
        "            x = keras.layers.Dense(units=n_units, activation=\"relu\", name=\"hidden_layer\"+str(i+1))(input_layer)\n",
        "        else:\n",
        "            x = keras.layers.Dense(units=n_units, activation=\"relu\", name=\"hidden_layer\"+str(i+1))(x)\n",
        "    \n",
        "    out = keras.layers.Dense(units=output_units, activation=\"softmax\", name=\"output\")(x)\n",
        "    \n",
        "    model = keras.models.Model(inputs=[input_layer], outputs=[out])\n",
        "    return model\n",
        "\n",
        "model = build_mlp(input_shape=x_train.shape[1:])\n",
        "model.summary()"
      ],
      "execution_count": 21,
      "outputs": [
        {
          "output_type": "stream",
          "text": [
            "_________________________________________________________________\n",
            "Layer (type)                 Output Shape              Param #   \n",
            "=================================================================\n",
            "input_2 (InputLayer)         (None, 3072)              0         \n",
            "_________________________________________________________________\n",
            "hidden_layer1 (Dense)        (None, 512)               1573376   \n",
            "_________________________________________________________________\n",
            "hidden_layer2 (Dense)        (None, 256)               131328    \n",
            "_________________________________________________________________\n",
            "hidden_layer3 (Dense)        (None, 128)               32896     \n",
            "_________________________________________________________________\n",
            "output (Dense)               (None, 10)                1290      \n",
            "=================================================================\n",
            "Total params: 1,738,890\n",
            "Trainable params: 1,738,890\n",
            "Non-trainable params: 0\n",
            "_________________________________________________________________\n"
          ],
          "name": "stdout"
        }
      ]
    },
    {
      "cell_type": "code",
      "metadata": {
        "id": "jzyjKVfRsgdI",
        "colab_type": "code",
        "colab": {}
      },
      "source": [
        "## 超參數設定\n",
        "LEARNING_RATE = 0.001\n",
        "EPOCHS = 100\n",
        "BATCH_SIZE = 256"
      ],
      "execution_count": 0,
      "outputs": []
    },
    {
      "cell_type": "code",
      "metadata": {
        "id": "7fM0sxxBsqMZ",
        "colab_type": "code",
        "colab": {}
      },
      "source": [
        "optimizer = keras.optimizers.Adam(lr=LEARNING_RATE)\n",
        "model.compile(loss=\"categorical_crossentropy\", metrics=[\"accuracy\"], optimizer=optimizer)"
      ],
      "execution_count": 0,
      "outputs": []
    },
    {
      "cell_type": "code",
      "metadata": {
        "id": "-Z4fdqijsr4R",
        "colab_type": "code",
        "colab": {
          "base_uri": "https://localhost:8080/",
          "height": 1000
        },
        "outputId": "afa5e94d-84ae-4afd-c84c-47c7b01fbe22"
      },
      "source": [
        "model.fit(x_train, y_train, \n",
        "          epochs=EPOCHS, \n",
        "          batch_size=BATCH_SIZE, \n",
        "          validation_data=(x_test, y_test), \n",
        "          shuffle=True)"
      ],
      "execution_count": 24,
      "outputs": [
        {
          "output_type": "stream",
          "text": [
            "Train on 50000 samples, validate on 10000 samples\n",
            "Epoch 1/100\n",
            "50000/50000 [==============================] - 3s 58us/step - loss: 1.9341 - acc: 0.2999 - val_loss: 1.7604 - val_acc: 0.3682\n",
            "Epoch 2/100\n",
            "50000/50000 [==============================] - 3s 52us/step - loss: 1.7104 - acc: 0.3890 - val_loss: 1.6739 - val_acc: 0.4051\n",
            "Epoch 3/100\n",
            "50000/50000 [==============================] - 3s 52us/step - loss: 1.6181 - acc: 0.4254 - val_loss: 1.5967 - val_acc: 0.4279\n",
            "Epoch 4/100\n",
            "50000/50000 [==============================] - 3s 51us/step - loss: 1.5570 - acc: 0.4450 - val_loss: 1.5566 - val_acc: 0.4339\n",
            "Epoch 5/100\n",
            "50000/50000 [==============================] - 3s 51us/step - loss: 1.5125 - acc: 0.4603 - val_loss: 1.5299 - val_acc: 0.4558\n",
            "Epoch 6/100\n",
            "50000/50000 [==============================] - 3s 51us/step - loss: 1.4762 - acc: 0.4750 - val_loss: 1.5011 - val_acc: 0.4722\n",
            "Epoch 7/100\n",
            "50000/50000 [==============================] - 3s 50us/step - loss: 1.4433 - acc: 0.4865 - val_loss: 1.4647 - val_acc: 0.4813\n",
            "Epoch 8/100\n",
            "50000/50000 [==============================] - 3s 51us/step - loss: 1.4071 - acc: 0.4978 - val_loss: 1.4864 - val_acc: 0.4702\n",
            "Epoch 9/100\n",
            "50000/50000 [==============================] - 3s 50us/step - loss: 1.3915 - acc: 0.5054 - val_loss: 1.4531 - val_acc: 0.4830\n",
            "Epoch 10/100\n",
            "50000/50000 [==============================] - 3s 51us/step - loss: 1.3607 - acc: 0.5160 - val_loss: 1.4198 - val_acc: 0.4967\n",
            "Epoch 11/100\n",
            "50000/50000 [==============================] - 3s 51us/step - loss: 1.3330 - acc: 0.5256 - val_loss: 1.4356 - val_acc: 0.4915\n",
            "Epoch 12/100\n",
            "50000/50000 [==============================] - 3s 51us/step - loss: 1.3088 - acc: 0.5330 - val_loss: 1.4147 - val_acc: 0.5047\n",
            "Epoch 13/100\n",
            "50000/50000 [==============================] - 3s 51us/step - loss: 1.2977 - acc: 0.5380 - val_loss: 1.3978 - val_acc: 0.5062\n",
            "Epoch 14/100\n",
            "50000/50000 [==============================] - 3s 51us/step - loss: 1.2723 - acc: 0.5454 - val_loss: 1.4474 - val_acc: 0.4937\n",
            "Epoch 15/100\n",
            "50000/50000 [==============================] - 3s 51us/step - loss: 1.2523 - acc: 0.5539 - val_loss: 1.4417 - val_acc: 0.4992\n",
            "Epoch 16/100\n",
            "50000/50000 [==============================] - 3s 51us/step - loss: 1.2188 - acc: 0.5650 - val_loss: 1.4258 - val_acc: 0.5031\n",
            "Epoch 17/100\n",
            "50000/50000 [==============================] - 3s 51us/step - loss: 1.2048 - acc: 0.5684 - val_loss: 1.3570 - val_acc: 0.5230\n",
            "Epoch 18/100\n",
            "50000/50000 [==============================] - 3s 50us/step - loss: 1.1855 - acc: 0.5784 - val_loss: 1.4021 - val_acc: 0.5068\n",
            "Epoch 19/100\n",
            "50000/50000 [==============================] - 3s 51us/step - loss: 1.1671 - acc: 0.5840 - val_loss: 1.3572 - val_acc: 0.5251\n",
            "Epoch 20/100\n",
            "50000/50000 [==============================] - 3s 50us/step - loss: 1.1456 - acc: 0.5924 - val_loss: 1.4120 - val_acc: 0.5176\n",
            "Epoch 21/100\n",
            "50000/50000 [==============================] - 3s 50us/step - loss: 1.1301 - acc: 0.5966 - val_loss: 1.4030 - val_acc: 0.5103\n",
            "Epoch 22/100\n",
            "50000/50000 [==============================] - 3s 50us/step - loss: 1.1062 - acc: 0.6045 - val_loss: 1.3738 - val_acc: 0.5324\n",
            "Epoch 23/100\n",
            "50000/50000 [==============================] - 3s 51us/step - loss: 1.0938 - acc: 0.6105 - val_loss: 1.3752 - val_acc: 0.5269\n",
            "Epoch 24/100\n",
            "50000/50000 [==============================] - 3s 51us/step - loss: 1.0867 - acc: 0.6109 - val_loss: 1.3757 - val_acc: 0.5234\n",
            "Epoch 25/100\n",
            "50000/50000 [==============================] - 3s 51us/step - loss: 1.0497 - acc: 0.6250 - val_loss: 1.3880 - val_acc: 0.5256\n",
            "Epoch 26/100\n",
            "50000/50000 [==============================] - 3s 51us/step - loss: 1.0409 - acc: 0.6279 - val_loss: 1.3850 - val_acc: 0.5298\n",
            "Epoch 27/100\n",
            "50000/50000 [==============================] - 3s 51us/step - loss: 1.0217 - acc: 0.6339 - val_loss: 1.4411 - val_acc: 0.5170\n",
            "Epoch 28/100\n",
            "50000/50000 [==============================] - 3s 50us/step - loss: 0.9962 - acc: 0.6444 - val_loss: 1.3762 - val_acc: 0.5328\n",
            "Epoch 29/100\n",
            "50000/50000 [==============================] - 2s 50us/step - loss: 0.9888 - acc: 0.6465 - val_loss: 1.4089 - val_acc: 0.5259\n",
            "Epoch 30/100\n",
            "50000/50000 [==============================] - 3s 51us/step - loss: 0.9734 - acc: 0.6541 - val_loss: 1.4179 - val_acc: 0.5310\n",
            "Epoch 31/100\n",
            "50000/50000 [==============================] - 3s 51us/step - loss: 0.9479 - acc: 0.6621 - val_loss: 1.4085 - val_acc: 0.5326\n",
            "Epoch 32/100\n",
            "50000/50000 [==============================] - 3s 50us/step - loss: 0.9304 - acc: 0.6688 - val_loss: 1.4433 - val_acc: 0.5214\n",
            "Epoch 33/100\n",
            "50000/50000 [==============================] - 3s 51us/step - loss: 0.9167 - acc: 0.6732 - val_loss: 1.4705 - val_acc: 0.5191\n",
            "Epoch 34/100\n",
            "50000/50000 [==============================] - 3s 50us/step - loss: 0.9015 - acc: 0.6784 - val_loss: 1.4832 - val_acc: 0.5218\n",
            "Epoch 35/100\n",
            "50000/50000 [==============================] - 3s 52us/step - loss: 0.8809 - acc: 0.6862 - val_loss: 1.4880 - val_acc: 0.5182\n",
            "Epoch 36/100\n",
            "50000/50000 [==============================] - 3s 51us/step - loss: 0.8639 - acc: 0.6917 - val_loss: 1.5056 - val_acc: 0.5233\n",
            "Epoch 37/100\n",
            "50000/50000 [==============================] - 3s 52us/step - loss: 0.8527 - acc: 0.6974 - val_loss: 1.5438 - val_acc: 0.5173\n",
            "Epoch 38/100\n",
            "50000/50000 [==============================] - 3s 51us/step - loss: 0.8439 - acc: 0.6975 - val_loss: 1.5420 - val_acc: 0.5168\n",
            "Epoch 39/100\n",
            "50000/50000 [==============================] - 3s 51us/step - loss: 0.8239 - acc: 0.7072 - val_loss: 1.5510 - val_acc: 0.5267\n",
            "Epoch 40/100\n",
            "50000/50000 [==============================] - 3s 50us/step - loss: 0.8048 - acc: 0.7127 - val_loss: 1.5468 - val_acc: 0.5290\n",
            "Epoch 41/100\n",
            "50000/50000 [==============================] - 3s 51us/step - loss: 0.7967 - acc: 0.7153 - val_loss: 1.5551 - val_acc: 0.5329\n",
            "Epoch 42/100\n",
            "50000/50000 [==============================] - 3s 51us/step - loss: 0.7750 - acc: 0.7236 - val_loss: 1.5710 - val_acc: 0.5261\n",
            "Epoch 43/100\n",
            "50000/50000 [==============================] - 3s 51us/step - loss: 0.7611 - acc: 0.7278 - val_loss: 1.5940 - val_acc: 0.5216\n",
            "Epoch 44/100\n",
            "50000/50000 [==============================] - 3s 51us/step - loss: 0.7622 - acc: 0.7269 - val_loss: 1.6175 - val_acc: 0.5280\n",
            "Epoch 45/100\n",
            "50000/50000 [==============================] - 3s 51us/step - loss: 0.7405 - acc: 0.7352 - val_loss: 1.6460 - val_acc: 0.5137\n",
            "Epoch 46/100\n",
            "50000/50000 [==============================] - 3s 50us/step - loss: 0.7257 - acc: 0.7391 - val_loss: 1.6464 - val_acc: 0.5230\n",
            "Epoch 47/100\n",
            "50000/50000 [==============================] - 3s 51us/step - loss: 0.7014 - acc: 0.7486 - val_loss: 1.6813 - val_acc: 0.5191\n",
            "Epoch 48/100\n",
            "50000/50000 [==============================] - 3s 51us/step - loss: 0.6936 - acc: 0.7531 - val_loss: 1.7421 - val_acc: 0.5156\n",
            "Epoch 49/100\n",
            "50000/50000 [==============================] - 3s 51us/step - loss: 0.6967 - acc: 0.7510 - val_loss: 1.7593 - val_acc: 0.5171\n",
            "Epoch 50/100\n",
            "50000/50000 [==============================] - 3s 51us/step - loss: 0.6690 - acc: 0.7601 - val_loss: 1.7280 - val_acc: 0.5183\n",
            "Epoch 51/100\n",
            "50000/50000 [==============================] - 3s 52us/step - loss: 0.6531 - acc: 0.7667 - val_loss: 1.8444 - val_acc: 0.5160\n",
            "Epoch 52/100\n",
            "50000/50000 [==============================] - 3s 50us/step - loss: 0.6427 - acc: 0.7709 - val_loss: 1.8323 - val_acc: 0.5137\n",
            "Epoch 53/100\n",
            "50000/50000 [==============================] - 3s 50us/step - loss: 0.6341 - acc: 0.7724 - val_loss: 1.8227 - val_acc: 0.5166\n",
            "Epoch 54/100\n",
            "50000/50000 [==============================] - 3s 51us/step - loss: 0.6301 - acc: 0.7730 - val_loss: 1.8284 - val_acc: 0.5250\n",
            "Epoch 55/100\n",
            "50000/50000 [==============================] - 3s 51us/step - loss: 0.6288 - acc: 0.7745 - val_loss: 1.8700 - val_acc: 0.5158\n",
            "Epoch 56/100\n",
            "50000/50000 [==============================] - 3s 51us/step - loss: 0.5990 - acc: 0.7854 - val_loss: 1.8669 - val_acc: 0.5232\n",
            "Epoch 57/100\n",
            "50000/50000 [==============================] - 3s 51us/step - loss: 0.5837 - acc: 0.7906 - val_loss: 1.8737 - val_acc: 0.5222\n",
            "Epoch 58/100\n",
            "50000/50000 [==============================] - 3s 51us/step - loss: 0.5816 - acc: 0.7931 - val_loss: 1.8654 - val_acc: 0.5212\n",
            "Epoch 59/100\n",
            "50000/50000 [==============================] - 3s 50us/step - loss: 0.5529 - acc: 0.8036 - val_loss: 1.9315 - val_acc: 0.5149\n",
            "Epoch 60/100\n",
            "50000/50000 [==============================] - 3s 51us/step - loss: 0.5605 - acc: 0.8001 - val_loss: 1.9655 - val_acc: 0.5118\n",
            "Epoch 61/100\n",
            "50000/50000 [==============================] - 3s 50us/step - loss: 0.5458 - acc: 0.8047 - val_loss: 1.9942 - val_acc: 0.5182\n",
            "Epoch 62/100\n",
            "50000/50000 [==============================] - 3s 51us/step - loss: 0.5364 - acc: 0.8080 - val_loss: 2.0354 - val_acc: 0.5079\n",
            "Epoch 63/100\n",
            "50000/50000 [==============================] - 3s 51us/step - loss: 0.5266 - acc: 0.8129 - val_loss: 2.0804 - val_acc: 0.5103\n",
            "Epoch 64/100\n",
            "50000/50000 [==============================] - 3s 52us/step - loss: 0.5193 - acc: 0.8126 - val_loss: 2.0445 - val_acc: 0.5159\n",
            "Epoch 65/100\n",
            "50000/50000 [==============================] - 3s 51us/step - loss: 0.5190 - acc: 0.8139 - val_loss: 2.1599 - val_acc: 0.5180\n",
            "Epoch 66/100\n",
            "50000/50000 [==============================] - 3s 51us/step - loss: 0.5012 - acc: 0.8195 - val_loss: 2.1331 - val_acc: 0.5099\n",
            "Epoch 67/100\n",
            "50000/50000 [==============================] - 3s 51us/step - loss: 0.5078 - acc: 0.8176 - val_loss: 2.1158 - val_acc: 0.5078\n",
            "Epoch 68/100\n",
            "50000/50000 [==============================] - 3s 51us/step - loss: 0.4884 - acc: 0.8250 - val_loss: 2.1487 - val_acc: 0.5143\n",
            "Epoch 69/100\n",
            "50000/50000 [==============================] - 3s 51us/step - loss: 0.4818 - acc: 0.8259 - val_loss: 2.1844 - val_acc: 0.5077\n",
            "Epoch 70/100\n",
            "50000/50000 [==============================] - 3s 50us/step - loss: 0.4679 - acc: 0.8313 - val_loss: 2.2583 - val_acc: 0.5188\n",
            "Epoch 71/100\n",
            "50000/50000 [==============================] - 3s 52us/step - loss: 0.4472 - acc: 0.8395 - val_loss: 2.2959 - val_acc: 0.5115\n",
            "Epoch 72/100\n",
            "50000/50000 [==============================] - 3s 51us/step - loss: 0.4622 - acc: 0.8352 - val_loss: 2.2928 - val_acc: 0.5043\n",
            "Epoch 73/100\n",
            "50000/50000 [==============================] - 3s 51us/step - loss: 0.4641 - acc: 0.8317 - val_loss: 2.3445 - val_acc: 0.5053\n",
            "Epoch 74/100\n",
            "50000/50000 [==============================] - 3s 51us/step - loss: 0.4370 - acc: 0.8434 - val_loss: 2.3446 - val_acc: 0.5104\n",
            "Epoch 75/100\n",
            "50000/50000 [==============================] - 3s 51us/step - loss: 0.4275 - acc: 0.8493 - val_loss: 2.3605 - val_acc: 0.5174\n",
            "Epoch 76/100\n",
            "50000/50000 [==============================] - 3s 51us/step - loss: 0.4293 - acc: 0.8464 - val_loss: 2.3673 - val_acc: 0.5129\n",
            "Epoch 77/100\n",
            "50000/50000 [==============================] - 3s 51us/step - loss: 0.4354 - acc: 0.8425 - val_loss: 2.3597 - val_acc: 0.5103\n",
            "Epoch 78/100\n",
            "50000/50000 [==============================] - 3s 50us/step - loss: 0.4133 - acc: 0.8522 - val_loss: 2.3822 - val_acc: 0.5126\n",
            "Epoch 79/100\n",
            "50000/50000 [==============================] - 3s 51us/step - loss: 0.4115 - acc: 0.8508 - val_loss: 2.4724 - val_acc: 0.5125\n",
            "Epoch 80/100\n",
            "50000/50000 [==============================] - 3s 51us/step - loss: 0.3916 - acc: 0.8596 - val_loss: 2.5116 - val_acc: 0.5118\n",
            "Epoch 81/100\n",
            "50000/50000 [==============================] - 3s 51us/step - loss: 0.3866 - acc: 0.8619 - val_loss: 2.4988 - val_acc: 0.5096\n",
            "Epoch 82/100\n",
            "50000/50000 [==============================] - 3s 51us/step - loss: 0.3886 - acc: 0.8616 - val_loss: 2.5652 - val_acc: 0.4992\n",
            "Epoch 83/100\n",
            "50000/50000 [==============================] - 3s 51us/step - loss: 0.3947 - acc: 0.8567 - val_loss: 2.5797 - val_acc: 0.5089\n",
            "Epoch 84/100\n",
            "50000/50000 [==============================] - 3s 51us/step - loss: 0.3661 - acc: 0.8682 - val_loss: 2.6553 - val_acc: 0.5077\n",
            "Epoch 85/100\n",
            "50000/50000 [==============================] - 3s 51us/step - loss: 0.3916 - acc: 0.8571 - val_loss: 2.6235 - val_acc: 0.5056\n",
            "Epoch 86/100\n",
            "50000/50000 [==============================] - 3s 51us/step - loss: 0.3742 - acc: 0.8661 - val_loss: 2.6724 - val_acc: 0.5008\n",
            "Epoch 87/100\n",
            "50000/50000 [==============================] - 3s 51us/step - loss: 0.3649 - acc: 0.8683 - val_loss: 2.7122 - val_acc: 0.5031\n",
            "Epoch 88/100\n",
            "50000/50000 [==============================] - 3s 51us/step - loss: 0.3596 - acc: 0.8706 - val_loss: 2.6781 - val_acc: 0.5068\n",
            "Epoch 89/100\n",
            "50000/50000 [==============================] - 3s 51us/step - loss: 0.3504 - acc: 0.8731 - val_loss: 2.7657 - val_acc: 0.4985\n",
            "Epoch 90/100\n",
            "50000/50000 [==============================] - 3s 50us/step - loss: 0.3369 - acc: 0.8793 - val_loss: 2.7655 - val_acc: 0.5038\n",
            "Epoch 91/100\n",
            "50000/50000 [==============================] - 3s 51us/step - loss: 0.3326 - acc: 0.8795 - val_loss: 2.9203 - val_acc: 0.4945\n",
            "Epoch 92/100\n",
            "50000/50000 [==============================] - 3s 51us/step - loss: 0.3457 - acc: 0.8767 - val_loss: 2.8060 - val_acc: 0.5023\n",
            "Epoch 93/100\n",
            "50000/50000 [==============================] - 3s 51us/step - loss: 0.3362 - acc: 0.8775 - val_loss: 2.8218 - val_acc: 0.5007\n",
            "Epoch 94/100\n",
            "50000/50000 [==============================] - 3s 51us/step - loss: 0.3136 - acc: 0.8883 - val_loss: 2.9509 - val_acc: 0.5026\n",
            "Epoch 95/100\n",
            "50000/50000 [==============================] - 3s 51us/step - loss: 0.3685 - acc: 0.8680 - val_loss: 2.9175 - val_acc: 0.5016\n",
            "Epoch 96/100\n",
            "50000/50000 [==============================] - 3s 51us/step - loss: 0.3508 - acc: 0.8733 - val_loss: 2.9314 - val_acc: 0.5109\n",
            "Epoch 97/100\n",
            "50000/50000 [==============================] - 3s 51us/step - loss: 0.3203 - acc: 0.8850 - val_loss: 2.9299 - val_acc: 0.5098\n",
            "Epoch 98/100\n",
            "50000/50000 [==============================] - 3s 51us/step - loss: 0.3071 - acc: 0.8887 - val_loss: 2.9912 - val_acc: 0.5043\n",
            "Epoch 99/100\n",
            "50000/50000 [==============================] - 3s 51us/step - loss: 0.2944 - acc: 0.8950 - val_loss: 3.0120 - val_acc: 0.5074\n",
            "Epoch 100/100\n",
            "50000/50000 [==============================] - 3s 50us/step - loss: 0.3047 - acc: 0.8909 - val_loss: 2.9284 - val_acc: 0.5133\n"
          ],
          "name": "stdout"
        },
        {
          "output_type": "execute_result",
          "data": {
            "text/plain": [
              "<keras.callbacks.History at 0x7fabf071d358>"
            ]
          },
          "metadata": {
            "tags": []
          },
          "execution_count": 24
        }
      ]
    },
    {
      "cell_type": "code",
      "metadata": {
        "id": "q09zt1QPste3",
        "colab_type": "code",
        "colab": {
          "base_uri": "https://localhost:8080/",
          "height": 545
        },
        "outputId": "2e01eb79-4198-4438-9c25-05d42fa484cd"
      },
      "source": [
        "# 訓練模型並檢視驗證集的結果\n",
        "import matplotlib.pyplot as plt\n",
        "\n",
        "train_loss = model.history.history[\"loss\"]\n",
        "valid_loss = model.history.history[\"val_loss\"]\n",
        "\n",
        "train_acc = model.history.history[\"acc\"]\n",
        "valid_acc = model.history.history[\"val_acc\"]\n",
        "\n",
        "plt.plot(range(len(train_loss)), train_loss, label=\"train loss\")\n",
        "plt.plot(range(len(valid_loss)), valid_loss, label=\"valid loss\")\n",
        "plt.legend()\n",
        "plt.title(\"Loss\")\n",
        "plt.show()\n",
        "\n",
        "plt.plot(range(len(train_acc)), train_acc, label=\"train accuracy\")\n",
        "plt.plot(range(len(valid_acc)), valid_acc, label=\"valid accuracy\")\n",
        "plt.legend()\n",
        "plt.title(\"Accuracy\")\n",
        "plt.show()"
      ],
      "execution_count": 25,
      "outputs": [
        {
          "output_type": "display_data",
          "data": {
            "image/png": "[encoded data removed]",
            "text/plain": [
              "<Figure size 432x288 with 1 Axes>"
            ]
          },
          "metadata": {
            "tags": []
          }
        },
        {
          "output_type": "display_data",
          "data": {
            "image/png": "[encoded data removed]",
            "text/plain": [
              "<Figure size 432x288 with 1 Axes>"
            ]
          },
          "metadata": {
            "tags": []
          }
        }
      ]
    }
  ]
}