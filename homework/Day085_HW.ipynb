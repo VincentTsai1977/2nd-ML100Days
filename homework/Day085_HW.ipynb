{
  "nbformat": 4,
  "nbformat_minor": 0,
  "metadata": {
    "colab": {
      "name": "Day085_HW.ipynb",
      "version": "0.3.2",
      "provenance": []
    },
    "kernelspec": {
      "name": "python3",
      "display_name": "Python 3"
    },
    "accelerator": "GPU"
  },
  "cells": [
    {
      "cell_type": "code",
      "metadata": {
        "id": "0D1N5tXM93k8",
        "colab_type": "code",
        "colab": {}
      },
      "source": [
        "import os\n",
        "import keras\n",
        "import itertools\n",
        "# Disable GPU\n",
        "os.environ[\"CUDA_VISIBLE_DEVICES\"] = \"0\""
      ],
      "execution_count": 0,
      "outputs": []
    },
    {
      "cell_type": "code",
      "metadata": {
        "id": "TjtxbyiX99_o",
        "colab_type": "code",
        "colab": {}
      },
      "source": [
        "train, test = keras.datasets.cifar10.load_data()"
      ],
      "execution_count": 0,
      "outputs": []
    },
    {
      "cell_type": "code",
      "metadata": {
        "id": "dm0t5ZGK9-Sz",
        "colab_type": "code",
        "colab": {}
      },
      "source": [
        "## 資料前處理\n",
        "def preproc_x(x, flatten=True):\n",
        "    x = x / 255.\n",
        "    if flatten:\n",
        "        x = x.reshape((len(x), -1))\n",
        "    return x\n",
        "\n",
        "def preproc_y(y, num_classes=10):\n",
        "    if y.shape[-1] == 1:\n",
        "        y = keras.utils.to_categorical(y, num_classes)\n",
        "    return y"
      ],
      "execution_count": 0,
      "outputs": []
    },
    {
      "cell_type": "code",
      "metadata": {
        "id": "qiubhBYw-A19",
        "colab_type": "code",
        "colab": {}
      },
      "source": [
        "x_train, y_train = train\n",
        "x_test, y_test = test\n",
        "\n",
        "# Preproc the inputs\n",
        "x_train = preproc_x(x_train)\n",
        "x_test = preproc_x(x_test)\n",
        "\n",
        "# Preprc the outputs\n",
        "y_train = preproc_y(y_train)\n",
        "y_test = preproc_y(y_test)"
      ],
      "execution_count": 0,
      "outputs": []
    },
    {
      "cell_type": "code",
      "metadata": {
        "id": "h6V40sz4-DPq",
        "colab_type": "code",
        "colab": {}
      },
      "source": [
        "from keras.layers import BatchNormalization\n",
        "\n",
        "\"\"\"\n",
        "建立神經網路，並加入 BN layer\n",
        "\"\"\"\n",
        "def build_mlp(input_shape, output_units=10, num_neurons=[512, 256, 128]):\n",
        "    input_layer = keras.layers.Input(input_shape)\n",
        "    \n",
        "    for i, n_units in enumerate(num_neurons):\n",
        "        if i == 0:\n",
        "            x = keras.layers.Dense(units=n_units, \n",
        "                                   activation=\"relu\", \n",
        "                                   name=\"hidden_layer\"+str(i+1))(input_layer)\n",
        "            x = BatchNormalization()(x)\n",
        "        else:\n",
        "            x = keras.layers.Dense(units=n_units, \n",
        "                                   activation=\"relu\", \n",
        "                                   name=\"hidden_layer\"+str(i+1))(x)\n",
        "            x = BatchNormalization()(x)\n",
        "    \n",
        "    out = keras.layers.Dense(units=output_units, activation=\"softmax\", name=\"output\")(x)\n",
        "    \n",
        "    model = keras.models.Model(inputs=[input_layer], outputs=[out])\n",
        "    return model"
      ],
      "execution_count": 0,
      "outputs": []
    },
    {
      "cell_type": "code",
      "metadata": {
        "id": "cqMGGHIW-Gp8",
        "colab_type": "code",
        "colab": {}
      },
      "source": [
        "## 超參數設定\n",
        "LEARNING_RATE = 1e-3\n",
        "EPOCHS = 50\n",
        "BATCH_SIZE = 1024\n",
        "MOMENTUM = 0.95"
      ],
      "execution_count": 0,
      "outputs": []
    },
    {
      "cell_type": "code",
      "metadata": {
        "id": "nw9diBH--J78",
        "colab_type": "code",
        "colab": {}
      },
      "source": [
        "\"\"\"\n",
        "# 載入 Callbacks, 並將 monitor 設定為監控 validation loss\n",
        "\"\"\"\n",
        "from keras.callbacks import EarlyStopping\n",
        "\n",
        "earlystop = EarlyStopping(monitor=\"val_loss\", \n",
        "                          patience=10, \n",
        "                          verbose=1\n",
        "                          )"
      ],
      "execution_count": 0,
      "outputs": []
    },
    {
      "cell_type": "code",
      "metadata": {
        "id": "XflS6ZsV-OSX",
        "colab_type": "code",
        "colab": {
          "base_uri": "https://localhost:8080/",
          "height": 1000
        },
        "outputId": "9c960146-d051-45aa-a2fe-173ef20cff08"
      },
      "source": [
        "model = build_mlp(input_shape=x_train.shape[1:])\n",
        "model.summary()\n",
        "optimizer = keras.optimizers.SGD(lr=LEARNING_RATE, nesterov=True, momentum=MOMENTUM)\n",
        "model.compile(loss=\"categorical_crossentropy\", metrics=[\"accuracy\"], optimizer=optimizer)\n",
        "\n",
        "model.fit(x_train, y_train, \n",
        "          epochs=EPOCHS, \n",
        "          batch_size=BATCH_SIZE, \n",
        "          validation_data=(x_test, y_test), \n",
        "          shuffle=True,\n",
        "          callbacks=[earlystop]\n",
        "         )\n",
        "\n",
        "# Collect results\n",
        "train_loss = model.history.history[\"loss\"]\n",
        "valid_loss = model.history.history[\"val_loss\"]\n",
        "train_acc = model.history.history[\"acc\"]\n",
        "valid_acc = model.history.history[\"val_acc\"]"
      ],
      "execution_count": 17,
      "outputs": [
        {
          "output_type": "stream",
          "text": [
            "_________________________________________________________________\n",
            "Layer (type)                 Output Shape              Param #   \n",
            "=================================================================\n",
            "input_4 (InputLayer)         (None, 3072)              0         \n",
            "_________________________________________________________________\n",
            "hidden_layer1 (Dense)        (None, 512)               1573376   \n",
            "_________________________________________________________________\n",
            "batch_normalization_10 (Batc (None, 512)               2048      \n",
            "_________________________________________________________________\n",
            "hidden_layer2 (Dense)        (None, 256)               131328    \n",
            "_________________________________________________________________\n",
            "batch_normalization_11 (Batc (None, 256)               1024      \n",
            "_________________________________________________________________\n",
            "hidden_layer3 (Dense)        (None, 128)               32896     \n",
            "_________________________________________________________________\n",
            "batch_normalization_12 (Batc (None, 128)               512       \n",
            "_________________________________________________________________\n",
            "output (Dense)               (None, 10)                1290      \n",
            "=================================================================\n",
            "Total params: 1,742,474\n",
            "Trainable params: 1,740,682\n",
            "Non-trainable params: 1,792\n",
            "_________________________________________________________________\n",
            "Train on 50000 samples, validate on 10000 samples\n",
            "Epoch 1/50\n",
            "50000/50000 [==============================] - 4s 88us/step - loss: 2.1905 - acc: 0.2796 - val_loss: 2.0770 - val_acc: 0.3263\n",
            "Epoch 2/50\n",
            "50000/50000 [==============================] - 2s 36us/step - loss: 1.7462 - acc: 0.3932 - val_loss: 1.8034 - val_acc: 0.3844\n",
            "Epoch 3/50\n",
            "50000/50000 [==============================] - 2s 37us/step - loss: 1.6165 - acc: 0.4354 - val_loss: 1.6851 - val_acc: 0.4126\n",
            "Epoch 4/50\n",
            "50000/50000 [==============================] - 2s 43us/step - loss: 1.5427 - acc: 0.4633 - val_loss: 1.6317 - val_acc: 0.4313\n",
            "Epoch 5/50\n",
            "50000/50000 [==============================] - 2s 39us/step - loss: 1.4876 - acc: 0.4821 - val_loss: 1.5980 - val_acc: 0.4425\n",
            "Epoch 6/50\n",
            "50000/50000 [==============================] - 2s 40us/step - loss: 1.4416 - acc: 0.4980 - val_loss: 1.5575 - val_acc: 0.4573\n",
            "Epoch 7/50\n",
            "50000/50000 [==============================] - 2s 36us/step - loss: 1.4013 - acc: 0.5136 - val_loss: 1.5406 - val_acc: 0.4616\n",
            "Epoch 8/50\n",
            "50000/50000 [==============================] - 2s 37us/step - loss: 1.3651 - acc: 0.5255 - val_loss: 1.5372 - val_acc: 0.4638\n",
            "Epoch 9/50\n",
            "50000/50000 [==============================] - 2s 39us/step - loss: 1.3321 - acc: 0.5377 - val_loss: 1.5176 - val_acc: 0.4721\n",
            "Epoch 10/50\n",
            "50000/50000 [==============================] - 2s 37us/step - loss: 1.3016 - acc: 0.5486 - val_loss: 1.5142 - val_acc: 0.4668\n",
            "Epoch 11/50\n",
            "50000/50000 [==============================] - 2s 40us/step - loss: 1.2735 - acc: 0.5579 - val_loss: 1.4858 - val_acc: 0.4777\n",
            "Epoch 12/50\n",
            "50000/50000 [==============================] - 2s 35us/step - loss: 1.2470 - acc: 0.5703 - val_loss: 1.4832 - val_acc: 0.4816\n",
            "Epoch 13/50\n",
            "50000/50000 [==============================] - 2s 37us/step - loss: 1.2194 - acc: 0.5779 - val_loss: 1.4653 - val_acc: 0.4852\n",
            "Epoch 14/50\n",
            "50000/50000 [==============================] - 2s 40us/step - loss: 1.1958 - acc: 0.5874 - val_loss: 1.4627 - val_acc: 0.4913\n",
            "Epoch 15/50\n",
            "50000/50000 [==============================] - 2s 37us/step - loss: 1.1685 - acc: 0.5988 - val_loss: 1.4637 - val_acc: 0.4875\n",
            "Epoch 16/50\n",
            "50000/50000 [==============================] - 2s 37us/step - loss: 1.1454 - acc: 0.6064 - val_loss: 1.4499 - val_acc: 0.4886\n",
            "Epoch 17/50\n",
            "50000/50000 [==============================] - 2s 41us/step - loss: 1.1211 - acc: 0.6148 - val_loss: 1.4555 - val_acc: 0.4880\n",
            "Epoch 18/50\n",
            "50000/50000 [==============================] - 2s 43us/step - loss: 1.0996 - acc: 0.6226 - val_loss: 1.4520 - val_acc: 0.4914\n",
            "Epoch 19/50\n",
            "50000/50000 [==============================] - 2s 41us/step - loss: 1.0755 - acc: 0.6333 - val_loss: 1.4486 - val_acc: 0.4959\n",
            "Epoch 20/50\n",
            "50000/50000 [==============================] - 2s 38us/step - loss: 1.0518 - acc: 0.6431 - val_loss: 1.4709 - val_acc: 0.4915\n",
            "Epoch 21/50\n",
            "50000/50000 [==============================] - 2s 37us/step - loss: 1.0336 - acc: 0.6487 - val_loss: 1.4498 - val_acc: 0.4967\n",
            "Epoch 22/50\n",
            "50000/50000 [==============================] - 2s 36us/step - loss: 1.0108 - acc: 0.6570 - val_loss: 1.4549 - val_acc: 0.4997\n",
            "Epoch 23/50\n",
            "50000/50000 [==============================] - 2s 36us/step - loss: 0.9888 - acc: 0.6668 - val_loss: 1.4467 - val_acc: 0.5025\n",
            "Epoch 24/50\n",
            "50000/50000 [==============================] - 2s 39us/step - loss: 0.9669 - acc: 0.6744 - val_loss: 1.4525 - val_acc: 0.4962\n",
            "Epoch 25/50\n",
            "50000/50000 [==============================] - 2s 36us/step - loss: 0.9470 - acc: 0.6825 - val_loss: 1.4601 - val_acc: 0.4974\n",
            "Epoch 26/50\n",
            "50000/50000 [==============================] - 2s 37us/step - loss: 0.9259 - acc: 0.6913 - val_loss: 1.4617 - val_acc: 0.4954\n",
            "Epoch 27/50\n",
            "50000/50000 [==============================] - 2s 38us/step - loss: 0.9066 - acc: 0.6993 - val_loss: 1.4570 - val_acc: 0.5029\n",
            "Epoch 28/50\n",
            "50000/50000 [==============================] - 2s 38us/step - loss: 0.8861 - acc: 0.7068 - val_loss: 1.4743 - val_acc: 0.5000\n",
            "Epoch 29/50\n",
            "50000/50000 [==============================] - 2s 39us/step - loss: 0.8649 - acc: 0.7150 - val_loss: 1.4642 - val_acc: 0.5033\n",
            "Epoch 30/50\n",
            "50000/50000 [==============================] - 2s 39us/step - loss: 0.8452 - acc: 0.7221 - val_loss: 1.5011 - val_acc: 0.4967\n",
            "Epoch 31/50\n",
            "50000/50000 [==============================] - 2s 41us/step - loss: 0.8275 - acc: 0.7299 - val_loss: 1.4928 - val_acc: 0.4927\n",
            "Epoch 32/50\n",
            "50000/50000 [==============================] - 2s 37us/step - loss: 0.8063 - acc: 0.7386 - val_loss: 1.4887 - val_acc: 0.5003\n",
            "Epoch 33/50\n",
            "50000/50000 [==============================] - 2s 36us/step - loss: 0.7870 - acc: 0.7456 - val_loss: 1.5032 - val_acc: 0.5023\n",
            "Epoch 00033: early stopping\n"
          ],
          "name": "stdout"
        }
      ]
    },
    {
      "cell_type": "code",
      "metadata": {
        "id": "6pEC5o-m-RlN",
        "colab_type": "code",
        "colab": {
          "base_uri": "https://localhost:8080/",
          "height": 545
        },
        "outputId": "8c463582-3347-46fb-aa55-75d0513c21c3"
      },
      "source": [
        "import matplotlib.pyplot as plt\n",
        "%matplotlib inline\n",
        "\n",
        "plt.plot(range(len(train_loss)), train_loss, label=\"train loss\")\n",
        "plt.plot(range(len(valid_loss)), valid_loss, label=\"valid loss\")\n",
        "plt.legend()\n",
        "plt.title(\"Loss\")\n",
        "plt.show()\n",
        "\n",
        "plt.plot(range(len(train_acc)), train_acc, label=\"train accuracy\")\n",
        "plt.plot(range(len(valid_acc)), valid_acc, label=\"valid accuracy\")\n",
        "plt.legend()\n",
        "plt.title(\"Accuracy\")\n",
        "plt.show()"
      ],
      "execution_count": 18,
      "outputs": [
        {
          "output_type": "display_data",
          "data": {
            "image/png": "[encoded data removed]",
            "text/plain": [
              "<Figure size 432x288 with 1 Axes>"
            ]
          },
          "metadata": {
            "tags": []
          }
        },
        {
          "output_type": "display_data",
          "data": {
            "image/png": "[encoded data removed]",
            "text/plain": [
              "<Figure size 432x288 with 1 Axes>"
            ]
          },
          "metadata": {
            "tags": []
          }
        }
      ]
    },
    {
      "cell_type": "code",
      "metadata": {
        "id": "s56OyfRlCB9-",
        "colab_type": "code",
        "colab": {}
      },
      "source": [
        "\"\"\"\n",
        "# 載入 Callbacks, 並將 monitor 設定為監控 validation loss\n",
        "\"\"\"\n",
        "from keras.callbacks import EarlyStopping\n",
        "\n",
        "earlystop = EarlyStopping(monitor=\"val_loss\", \n",
        "                          patience=25, \n",
        "                          verbose=1\n",
        "                          )"
      ],
      "execution_count": 0,
      "outputs": []
    },
    {
      "cell_type": "code",
      "metadata": {
        "id": "2vcS7zmaCF5D",
        "colab_type": "code",
        "colab": {
          "base_uri": "https://localhost:8080/",
          "height": 1000
        },
        "outputId": "c7fc20ac-0814-4e59-8d14-0699bf7e106e"
      },
      "source": [
        "model = build_mlp(input_shape=x_train.shape[1:])\n",
        "model.summary()\n",
        "optimizer = keras.optimizers.SGD(lr=LEARNING_RATE, nesterov=True, momentum=MOMENTUM)\n",
        "model.compile(loss=\"categorical_crossentropy\", metrics=[\"accuracy\"], optimizer=optimizer)\n",
        "\n",
        "model.fit(x_train, y_train, \n",
        "          epochs=EPOCHS, \n",
        "          batch_size=BATCH_SIZE, \n",
        "          validation_data=(x_test, y_test), \n",
        "          shuffle=True,\n",
        "          callbacks=[earlystop]\n",
        "         )\n",
        "\n",
        "# Collect results\n",
        "train_loss = model.history.history[\"loss\"]\n",
        "valid_loss = model.history.history[\"val_loss\"]\n",
        "train_acc = model.history.history[\"acc\"]\n",
        "valid_acc = model.history.history[\"val_acc\"]"
      ],
      "execution_count": 20,
      "outputs": [
        {
          "output_type": "stream",
          "text": [
            "_________________________________________________________________\n",
            "Layer (type)                 Output Shape              Param #   \n",
            "=================================================================\n",
            "input_5 (InputLayer)         (None, 3072)              0         \n",
            "_________________________________________________________________\n",
            "hidden_layer1 (Dense)        (None, 512)               1573376   \n",
            "_________________________________________________________________\n",
            "batch_normalization_13 (Batc (None, 512)               2048      \n",
            "_________________________________________________________________\n",
            "hidden_layer2 (Dense)        (None, 256)               131328    \n",
            "_________________________________________________________________\n",
            "batch_normalization_14 (Batc (None, 256)               1024      \n",
            "_________________________________________________________________\n",
            "hidden_layer3 (Dense)        (None, 128)               32896     \n",
            "_________________________________________________________________\n",
            "batch_normalization_15 (Batc (None, 128)               512       \n",
            "_________________________________________________________________\n",
            "output (Dense)               (None, 10)                1290      \n",
            "=================================================================\n",
            "Total params: 1,742,474\n",
            "Trainable params: 1,740,682\n",
            "Non-trainable params: 1,792\n",
            "_________________________________________________________________\n",
            "Train on 50000 samples, validate on 10000 samples\n",
            "Epoch 1/50\n",
            "50000/50000 [==============================] - 5s 103us/step - loss: 2.2134 - acc: 0.2741 - val_loss: 2.1160 - val_acc: 0.3254\n",
            "Epoch 2/50\n",
            "50000/50000 [==============================] - 2s 39us/step - loss: 1.7283 - acc: 0.3980 - val_loss: 1.8230 - val_acc: 0.3823\n",
            "Epoch 3/50\n",
            "50000/50000 [==============================] - 2s 41us/step - loss: 1.6081 - acc: 0.4361 - val_loss: 1.6893 - val_acc: 0.4063\n",
            "Epoch 4/50\n",
            "50000/50000 [==============================] - 2s 35us/step - loss: 1.5371 - acc: 0.4616 - val_loss: 1.6306 - val_acc: 0.4302\n",
            "Epoch 5/50\n",
            "50000/50000 [==============================] - 2s 39us/step - loss: 1.4830 - acc: 0.4799 - val_loss: 1.5808 - val_acc: 0.4460\n",
            "Epoch 6/50\n",
            "50000/50000 [==============================] - 2s 42us/step - loss: 1.4402 - acc: 0.4946 - val_loss: 1.5497 - val_acc: 0.4528\n",
            "Epoch 7/50\n",
            "50000/50000 [==============================] - 2s 40us/step - loss: 1.4019 - acc: 0.5106 - val_loss: 1.5378 - val_acc: 0.4625\n",
            "Epoch 8/50\n",
            "50000/50000 [==============================] - 2s 40us/step - loss: 1.3666 - acc: 0.5224 - val_loss: 1.5184 - val_acc: 0.4664\n",
            "Epoch 9/50\n",
            "50000/50000 [==============================] - 2s 40us/step - loss: 1.3361 - acc: 0.5350 - val_loss: 1.4949 - val_acc: 0.4763\n",
            "Epoch 10/50\n",
            "50000/50000 [==============================] - 2s 35us/step - loss: 1.3072 - acc: 0.5432 - val_loss: 1.4854 - val_acc: 0.4763\n",
            "Epoch 11/50\n",
            "50000/50000 [==============================] - 2s 39us/step - loss: 1.2799 - acc: 0.5556 - val_loss: 1.4827 - val_acc: 0.4796\n",
            "Epoch 12/50\n",
            "50000/50000 [==============================] - 2s 40us/step - loss: 1.2540 - acc: 0.5635 - val_loss: 1.4834 - val_acc: 0.4771\n",
            "Epoch 13/50\n",
            "50000/50000 [==============================] - 2s 39us/step - loss: 1.2286 - acc: 0.5735 - val_loss: 1.4641 - val_acc: 0.4852\n",
            "Epoch 14/50\n",
            "50000/50000 [==============================] - 2s 40us/step - loss: 1.2037 - acc: 0.5834 - val_loss: 1.4703 - val_acc: 0.4853\n",
            "Epoch 15/50\n",
            "50000/50000 [==============================] - 2s 40us/step - loss: 1.1815 - acc: 0.5904 - val_loss: 1.4614 - val_acc: 0.4863\n",
            "Epoch 16/50\n",
            "50000/50000 [==============================] - 2s 38us/step - loss: 1.1593 - acc: 0.5985 - val_loss: 1.4627 - val_acc: 0.4868\n",
            "Epoch 17/50\n",
            "50000/50000 [==============================] - 2s 34us/step - loss: 1.1348 - acc: 0.6088 - val_loss: 1.4553 - val_acc: 0.4948\n",
            "Epoch 18/50\n",
            "50000/50000 [==============================] - 2s 35us/step - loss: 1.1146 - acc: 0.6163 - val_loss: 1.4592 - val_acc: 0.4855\n",
            "Epoch 19/50\n",
            "50000/50000 [==============================] - 2s 38us/step - loss: 1.0927 - acc: 0.6233 - val_loss: 1.4557 - val_acc: 0.4941\n",
            "Epoch 20/50\n",
            "50000/50000 [==============================] - 2s 40us/step - loss: 1.0705 - acc: 0.6334 - val_loss: 1.4569 - val_acc: 0.4896\n",
            "Epoch 21/50\n",
            "50000/50000 [==============================] - 2s 36us/step - loss: 1.0505 - acc: 0.6407 - val_loss: 1.4520 - val_acc: 0.4950\n",
            "Epoch 22/50\n",
            "50000/50000 [==============================] - 2s 37us/step - loss: 1.0309 - acc: 0.6487 - val_loss: 1.4688 - val_acc: 0.4908\n",
            "Epoch 23/50\n",
            "50000/50000 [==============================] - 2s 39us/step - loss: 1.0098 - acc: 0.6567 - val_loss: 1.4546 - val_acc: 0.4938\n",
            "Epoch 24/50\n",
            "50000/50000 [==============================] - 2s 37us/step - loss: 0.9875 - acc: 0.6651 - val_loss: 1.4630 - val_acc: 0.4936\n",
            "Epoch 25/50\n",
            "50000/50000 [==============================] - 2s 38us/step - loss: 0.9692 - acc: 0.6718 - val_loss: 1.4743 - val_acc: 0.4902\n",
            "Epoch 26/50\n",
            "50000/50000 [==============================] - 2s 37us/step - loss: 0.9479 - acc: 0.6809 - val_loss: 1.4814 - val_acc: 0.4913\n",
            "Epoch 27/50\n",
            "50000/50000 [==============================] - 2s 43us/step - loss: 0.9281 - acc: 0.6898 - val_loss: 1.4892 - val_acc: 0.4918\n",
            "Epoch 28/50\n",
            "50000/50000 [==============================] - 2s 37us/step - loss: 0.9101 - acc: 0.6947 - val_loss: 1.4917 - val_acc: 0.4891\n",
            "Epoch 29/50\n",
            "50000/50000 [==============================] - 2s 40us/step - loss: 0.8902 - acc: 0.7008 - val_loss: 1.4877 - val_acc: 0.4914\n",
            "Epoch 30/50\n",
            "50000/50000 [==============================] - 2s 40us/step - loss: 0.8708 - acc: 0.7104 - val_loss: 1.4923 - val_acc: 0.4885\n",
            "Epoch 31/50\n",
            "50000/50000 [==============================] - 2s 43us/step - loss: 0.8498 - acc: 0.7177 - val_loss: 1.4848 - val_acc: 0.4960\n",
            "Epoch 32/50\n",
            "50000/50000 [==============================] - 2s 40us/step - loss: 0.8328 - acc: 0.7258 - val_loss: 1.4896 - val_acc: 0.4958\n",
            "Epoch 33/50\n",
            "50000/50000 [==============================] - 2s 41us/step - loss: 0.8114 - acc: 0.7343 - val_loss: 1.5118 - val_acc: 0.4912\n",
            "Epoch 34/50\n",
            "50000/50000 [==============================] - 2s 43us/step - loss: 0.7935 - acc: 0.7395 - val_loss: 1.5109 - val_acc: 0.4931\n",
            "Epoch 35/50\n",
            "50000/50000 [==============================] - 2s 40us/step - loss: 0.7736 - acc: 0.7482 - val_loss: 1.5282 - val_acc: 0.4892\n",
            "Epoch 36/50\n",
            "50000/50000 [==============================] - 2s 36us/step - loss: 0.7565 - acc: 0.7563 - val_loss: 1.5257 - val_acc: 0.4954\n",
            "Epoch 37/50\n",
            "50000/50000 [==============================] - 2s 37us/step - loss: 0.7380 - acc: 0.7642 - val_loss: 1.5312 - val_acc: 0.4953\n",
            "Epoch 38/50\n",
            "50000/50000 [==============================] - 2s 40us/step - loss: 0.7195 - acc: 0.7699 - val_loss: 1.5312 - val_acc: 0.4981\n",
            "Epoch 39/50\n",
            "50000/50000 [==============================] - 2s 37us/step - loss: 0.7010 - acc: 0.7783 - val_loss: 1.5331 - val_acc: 0.4924\n",
            "Epoch 40/50\n",
            "50000/50000 [==============================] - 2s 38us/step - loss: 0.6803 - acc: 0.7879 - val_loss: 1.5542 - val_acc: 0.4960\n",
            "Epoch 41/50\n",
            "50000/50000 [==============================] - 2s 40us/step - loss: 0.6629 - acc: 0.7929 - val_loss: 1.5779 - val_acc: 0.4822\n",
            "Epoch 42/50\n",
            "50000/50000 [==============================] - 2s 40us/step - loss: 0.6465 - acc: 0.8005 - val_loss: 1.5736 - val_acc: 0.4937\n",
            "Epoch 43/50\n",
            "50000/50000 [==============================] - 2s 41us/step - loss: 0.6285 - acc: 0.8087 - val_loss: 1.5728 - val_acc: 0.4935\n",
            "Epoch 44/50\n",
            "50000/50000 [==============================] - 2s 43us/step - loss: 0.6113 - acc: 0.8148 - val_loss: 1.6015 - val_acc: 0.4893\n",
            "Epoch 45/50\n",
            "50000/50000 [==============================] - 2s 36us/step - loss: 0.5949 - acc: 0.8214 - val_loss: 1.6001 - val_acc: 0.4881\n",
            "Epoch 46/50\n",
            "50000/50000 [==============================] - 2s 40us/step - loss: 0.5756 - acc: 0.8291 - val_loss: 1.6220 - val_acc: 0.4872\n",
            "Epoch 00046: early stopping\n"
          ],
          "name": "stdout"
        }
      ]
    },
    {
      "cell_type": "code",
      "metadata": {
        "id": "IUiOUEoKCH76",
        "colab_type": "code",
        "colab": {
          "base_uri": "https://localhost:8080/",
          "height": 545
        },
        "outputId": "62428603-a42e-4651-ec0b-ac2f2e1a1424"
      },
      "source": [
        "import matplotlib.pyplot as plt\n",
        "%matplotlib inline\n",
        "\n",
        "plt.plot(range(len(train_loss)), train_loss, label=\"train loss\")\n",
        "plt.plot(range(len(valid_loss)), valid_loss, label=\"valid loss\")\n",
        "plt.legend()\n",
        "plt.title(\"Loss\")\n",
        "plt.show()\n",
        "\n",
        "plt.plot(range(len(train_acc)), train_acc, label=\"train accuracy\")\n",
        "plt.plot(range(len(valid_acc)), valid_acc, label=\"valid accuracy\")\n",
        "plt.legend()\n",
        "plt.title(\"Accuracy\")\n",
        "plt.show()"
      ],
      "execution_count": 21,
      "outputs": [
        {
          "output_type": "display_data",
          "data": {
            "image/png": "[encoded data removed]",
            "text/plain": [
              "<Figure size 432x288 with 1 Axes>"
            ]
          },
          "metadata": {
            "tags": []
          }
        },
        {
          "output_type": "display_data",
          "data": {
            "image/png": "[encoded data removed]",
            "text/plain": [
              "<Figure size 432x288 with 1 Axes>"
            ]
          },
          "metadata": {
            "tags": []
          }
        }
      ]
    },
    {
      "cell_type": "code",
      "metadata": {
        "id": "G11Dg3O_CJVX",
        "colab_type": "code",
        "colab": {}
      },
      "source": [
        ""
      ],
      "execution_count": 0,
      "outputs": []
    }
  ]
}