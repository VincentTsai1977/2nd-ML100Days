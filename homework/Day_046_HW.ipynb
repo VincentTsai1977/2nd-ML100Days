{
 "cells": [
  {
   "cell_type": "markdown",
   "metadata": {},
   "source": [
    "### 作業\n",
    "目前已經學過許多的模型，相信大家對整體流程應該比較掌握了，這次作業請改用**手寫辨識資料集**，步驟流程都是一樣的，請試著自己撰寫程式碼來完成所有步驟"
   ]
  },
  {
   "cell_type": "code",
   "execution_count": 1,
   "metadata": {},
   "outputs": [],
   "source": [
    "from sklearn import datasets, metrics\n",
    "from sklearn.model_selection import train_test_split\n",
    "from sklearn.ensemble import GradientBoostingClassifier\n",
    "\n",
    "# 忽略警告訊息\n",
    "import warnings\n",
    "warnings.filterwarnings('ignore')\n",
    "\n",
    "from sklearn import datasets, metrics\n",
    "digits = datasets.load_digits()"
   ]
  },
  {
   "cell_type": "code",
   "execution_count": 2,
   "metadata": {},
   "outputs": [],
   "source": [
    "# 切分訓練集/測試集\n",
    "x_train, x_test, y_train, y_test = train_test_split(digits.data, digits.target, test_size=0.25, random_state=42)"
   ]
  },
  {
   "cell_type": "code",
   "execution_count": 4,
   "metadata": {},
   "outputs": [
    {
     "name": "stdout",
     "output_type": "stream",
     "text": [
      "Accuracy:  0.9711111111111111\n",
      "Feature importance:  [0.00000000e+00 1.36184131e-03 7.85288269e-03 5.00263663e-03\n",
      " 2.74421148e-03 4.78594563e-02 1.06689897e-02 5.05163440e-05\n",
      " 4.10118942e-04 1.39667483e-03 1.94900813e-02 9.63086767e-04\n",
      " 1.24849433e-02 1.02525972e-02 2.02224247e-03 2.91752728e-04\n",
      " 4.82600986e-04 1.78347549e-03 1.08375403e-02 3.65402989e-02\n",
      " 2.63989217e-02 8.71389761e-02 5.11525351e-03 2.35461645e-06\n",
      " 6.84036899e-06 3.37479492e-03 4.46407813e-02 2.10176922e-02\n",
      " 3.34200478e-02 2.40247560e-02 1.06188199e-02 4.78353229e-04\n",
      " 0.00000000e+00 5.55635885e-02 7.54873014e-03 4.91402709e-03\n",
      " 7.45301757e-02 1.18749080e-02 1.72992178e-02 0.00000000e+00\n",
      " 0.00000000e+00 5.58443759e-03 8.10372072e-02 6.97627611e-02\n",
      " 5.81046662e-03 1.64154246e-02 2.16493183e-02 2.29310183e-04\n",
      " 0.00000000e+00 1.16440912e-03 6.30963102e-03 1.85621379e-02\n",
      " 1.36014741e-02 1.07260748e-02 1.87326767e-02 4.96609199e-04\n",
      " 7.91903869e-04 3.65293800e-04 1.97989497e-02 2.30907087e-03\n",
      " 6.08702452e-02 8.48949800e-03 2.67217847e-02 1.01071290e-02]\n"
     ]
    }
   ],
   "source": [
    "# 建立模型\n",
    "clf = GradientBoostingClassifier()\n",
    "\n",
    "# 訓練模型\n",
    "clf.fit(x_train, y_train)\n",
    "\n",
    "# 預測測試集\n",
    "y_pred = clf.predict(x_test)\n",
    "\n",
    "acc = metrics.accuracy_score(y_test, y_pred)\n",
    "print(\"Accuracy: \", acc)\n",
    "print(\"Feature importance: \", clf.feature_importances_)"
   ]
  },
  {
   "cell_type": "code",
   "execution_count": null,
   "metadata": {},
   "outputs": [],
   "source": []
  }
 ],
 "metadata": {
  "kernelspec": {
   "display_name": "Python 3",
   "language": "python",
   "name": "python3"
  },
  "language_info": {
   "codemirror_mode": {
    "name": "ipython",
    "version": 3
   },
   "file_extension": ".py",
   "mimetype": "text/x-python",
   "name": "python",
   "nbconvert_exporter": "python",
   "pygments_lexer": "ipython3",
   "version": "3.7.3"
  }
 },
 "nbformat": 4,
 "nbformat_minor": 2
}
